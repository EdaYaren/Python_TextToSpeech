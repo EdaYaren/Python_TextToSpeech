{
 "cells": [
  {
   "cell_type": "markdown",
   "id": "fa54649e",
   "metadata": {},
   "source": [
    "# TEXT TO SPEECH"
   ]
  },
  {
   "cell_type": "code",
   "execution_count": 1,
   "id": "6bae1a32",
   "metadata": {},
   "outputs": [
    {
     "name": "stdout",
     "output_type": "stream",
     "text": [
      "Defaulting to user installation because normal site-packages is not writeable\n",
      "Requirement already satisfied: gtts in c:\\users\\yaren\\appdata\\roaming\\python\\python39\\site-packages (2.5.3)\n",
      "Requirement already satisfied: requests<3,>=2.27 in c:\\programdata\\anaconda3\\lib\\site-packages (from gtts) (2.27.1)\n",
      "Requirement already satisfied: click<8.2,>=7.1 in c:\\programdata\\anaconda3\\lib\\site-packages (from gtts) (8.0.4)\n",
      "Requirement already satisfied: colorama in c:\\programdata\\anaconda3\\lib\\site-packages (from click<8.2,>=7.1->gtts) (0.4.4)\n",
      "Requirement already satisfied: urllib3<1.27,>=1.21.1 in c:\\programdata\\anaconda3\\lib\\site-packages (from requests<3,>=2.27->gtts) (1.26.9)\n",
      "Requirement already satisfied: idna<4,>=2.5 in c:\\programdata\\anaconda3\\lib\\site-packages (from requests<3,>=2.27->gtts) (3.3)\n",
      "Requirement already satisfied: charset-normalizer~=2.0.0 in c:\\programdata\\anaconda3\\lib\\site-packages (from requests<3,>=2.27->gtts) (2.0.4)\n",
      "Requirement already satisfied: certifi>=2017.4.17 in c:\\programdata\\anaconda3\\lib\\site-packages (from requests<3,>=2.27->gtts) (2021.10.8)\n",
      "Note: you may need to restart the kernel to use updated packages.\n"
     ]
    }
   ],
   "source": [
    "pip install gtts"
   ]
  },
  {
   "cell_type": "code",
   "execution_count": 2,
   "id": "e1e8f29c",
   "metadata": {},
   "outputs": [
    {
     "name": "stdout",
     "output_type": "stream",
     "text": [
      "Defaulting to user installation because normal site-packages is not writeable\n",
      "Requirement already satisfied: pygame in c:\\users\\yaren\\appdata\\roaming\\python\\python39\\site-packages (2.6.1)\n",
      "Note: you may need to restart the kernel to use updated packages.\n"
     ]
    }
   ],
   "source": [
    "pip install pygame"
   ]
  },
  {
   "cell_type": "code",
   "execution_count": 3,
   "id": "218d2ee8",
   "metadata": {},
   "outputs": [
    {
     "name": "stdout",
     "output_type": "stream",
     "text": [
      "pygame 2.6.1 (SDL 2.28.4, Python 3.9.12)\n",
      "Hello from the pygame community. https://www.pygame.org/contribute.html\n"
     ]
    }
   ],
   "source": [
    "from gtts import gTTS  # Google Text-to-Speech API kullanarak metni sese çevirir.\n",
    "import pygame  # Ses dosyasını çalmak için kullanılır.\n",
    "import os # Ses dosyasını silmek için kullanılır."
   ]
  },
  {
   "cell_type": "code",
   "execution_count": 4,
   "id": "b606e32e",
   "metadata": {},
   "outputs": [
    {
     "name": "stdout",
     "output_type": "stream",
     "text": [
      "Seslendirmek istediğiniz metni giriniz: Merhaba! Bu bir deneme metnidir. Teknolojinin gelişmesiyle birlikte, artık metinleri sese dönüştürerek dinlemek mümkün hale geldi. Bu sayede, kitapları veya makaleleri sesli olarak dinleyebilir ve zamandan tasarruf edebilirsiniz. Keyifli dinlemeler!\n",
      "Seslendirilecek metinin dili nedir? (tr/en): tr\n",
      "'text_to_speech.mp3' dosyası silindi.\n",
      "Başka bir metni seslendirmek istiyor musunuz? (e/h): e\n",
      "Seslendirmek istediğiniz metni giriniz: Hello! This is a sample text. With the advancement of technology, it has become possible to convert text into speech, allowing us to listen to books or articles and save time. Enjoy listening!\n",
      "Seslendirilecek metinin dili nedir? (tr/en): en\n",
      "'text_to_speech.mp3' dosyası silindi.\n",
      "Başka bir metni seslendirmek istiyor musunuz? (e/h): h\n",
      "Uygulama sonlandırılıyor.\n"
     ]
    }
   ],
   "source": [
    "# 1.adım: Kullanıcı tarafından girilecek metni ve dilini alarak ses kaydına dönüştüren bir fonksiyon oluşturulur:\n",
    "def TextToSpeech(text, language):\n",
    "    # Metin dosyasını sese çevirelim.\n",
    "    tts = gTTS(text=text, lang=language, slow=False)\n",
    "    \n",
    "    # Ses dosyasını geçici bir dosyaya kaydedelim.\n",
    "    tts.save(\"text_to_speech.mp3\")\n",
    "\n",
    "    # Ses dosyasını çalalım.\n",
    "    pygame.mixer.init()\n",
    "    # pygame kütüphanesinin ses sistemini başlatır. Bu, ses çalma işlevlerinin kullanılabilmesi için gereklidir.\n",
    "    pygame.mixer.music.load(\"text_to_speech.mp3\")\n",
    "    # ses dosyasını belleğe yükler.\n",
    "    pygame.mixer.music.play()\n",
    "    # yüklenen ses dosyasını çalmaya başlar.\n",
    "    \n",
    "    # Ses çalmayı bitirene kadar bekleyelim.\n",
    "    while pygame.mixer.music.get_busy():  # Ses çalarken bekle\n",
    "        pygame.time.Clock().tick(10)  # 10 ms arayla döngüde bekle\n",
    "    \n",
    "    # Sesi durduralım ve pygame ile ses kaynaklarını serbest bırakalım.\n",
    "    pygame.mixer.music.stop()\n",
    "    pygame.mixer.quit()\n",
    "\n",
    "    # Ses dosyasını çaldıktan sonra silelim.\n",
    "    os.remove(\"text_to_speech.mp3\")\n",
    "    print(f\"'{'text_to_speech.mp3'}' dosyası silindi.\")\n",
    "    \n",
    "\n",
    "# 2.Adım: Kullanıcıdan metin ve metnin dili alınarak uygulama döngüsü oluşturulur:\n",
    "\n",
    "while True:\n",
    "    text = input(\"Seslendirmek istediğiniz metni giriniz: \")\n",
    "    language = input(\"Seslendirilecek metinin dili nedir? (tr/en): \")\n",
    "\n",
    "    TextToSpeech(text, language)\n",
    "    \n",
    "    # Kullanıcıya devam etmek isteyip istemediğini sor\n",
    "    again = input(\"Başka bir metni seslendirmek istiyor musunuz? (e/h): \")\n",
    "    if again.lower() != 'e':\n",
    "        print(\"Uygulama sonlandırılıyor.\")\n",
    "        break"
   ]
  }
 ],
 "metadata": {
  "kernelspec": {
   "display_name": "Python 3 (ipykernel)",
   "language": "python",
   "name": "python3"
  },
  "language_info": {
   "codemirror_mode": {
    "name": "ipython",
    "version": 3
   },
   "file_extension": ".py",
   "mimetype": "text/x-python",
   "name": "python",
   "nbconvert_exporter": "python",
   "pygments_lexer": "ipython3",
   "version": "3.9.12"
  }
 },
 "nbformat": 4,
 "nbformat_minor": 5
}
